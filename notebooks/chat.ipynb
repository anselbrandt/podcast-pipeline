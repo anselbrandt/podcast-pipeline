{
 "cells": [
  {
   "cell_type": "code",
   "execution_count": null,
   "metadata": {},
   "outputs": [],
   "source": [
    "from pathlib import Path\n",
    "\n",
    "working = [\"186\"]\n",
    "\n",
    "episodes = [\n",
    "    \"030\",\n",
    "    \"051\",\n",
    "    \"061\",\n",
    "    \"069\",\n",
    "    \"098\",\n",
    "    \"118\",\n",
    "    \"186\",\n",
    "    \"240\",\n",
    "    \"298\",\n",
    "    \"398\",\n",
    "    \"405\",\n",
    "    \"430\",\n",
    "]\n",
    "\n",
    "files_dir = Path(\"../files/text/rotl\")\n",
    "\n",
    "files = [\n",
    "    file\n",
    "    for file in sorted(files_dir.iterdir())\n",
    "    if any(episode in str(file) for episode in working)\n",
    "]\n",
    "\n",
    "out_dir = Path(\"../files/chat\")\n",
    "out_dir.mkdir(exist_ok=True)\n",
    "\n",
    "for file in files:\n",
    "    text = open(file, \"r\").read()"
   ]
  },
  {
   "cell_type": "code",
   "execution_count": 8,
   "metadata": {},
   "outputs": [
    {
     "name": "stdout",
     "output_type": "stream",
     "text": [
      "The sky appears blue to us because of a phenomenon called Rayleigh scattering. When sunlight (which is composed of various colors of the visible spectrum) enters Earth's atmosphere, it interacts with gas molecules and tiny particles in the air. These interactions cause shorter wavelengths of light (blue and violet) to be scattered more strongly than longer wavelengths (such as red). \n",
      "\n",
      "Since blue light is scattered more effectively by the atmosphere, it reaches our eyes from all directions, making the sky appear blue during the daytime. However, our atmosphere filters out most of the violet light, which is why we see the sky as blue rather than violet.\n",
      "\n",
      "8.236962080001831\n"
     ]
    }
   ],
   "source": [
    "from ollama import Client\n",
    "import time\n",
    "\n",
    "start = time.time()\n",
    "\n",
    "client = Client(host=\"https://mlkyway.anselbrandt.net/ollama\")\n",
    "\n",
    "stream = client.chat(\n",
    "    model=\"command-r\",\n",
    "    messages=[\n",
    "        {\n",
    "            \"role\": \"user\",\n",
    "            \"content\": \"Why is the sky blue?\",\n",
    "        },\n",
    "    ],\n",
    "    stream=True,\n",
    ")\n",
    "\n",
    "for chunk in stream:\n",
    "    print(chunk[\"message\"][\"content\"], end=\"\", flush=True)\n",
    "\n",
    "now = time.time()\n",
    "print(f\"\\n\\n{now - start}\")"
   ]
  }
 ],
 "metadata": {
  "kernelspec": {
   "display_name": ".venv",
   "language": "python",
   "name": "python3"
  },
  "language_info": {
   "codemirror_mode": {
    "name": "ipython",
    "version": 3
   },
   "file_extension": ".py",
   "mimetype": "text/x-python",
   "name": "python",
   "nbconvert_exporter": "python",
   "pygments_lexer": "ipython3",
   "version": "3.12.8"
  }
 },
 "nbformat": 4,
 "nbformat_minor": 2
}
