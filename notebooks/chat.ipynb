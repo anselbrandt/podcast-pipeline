{
 "cells": [
  {
   "cell_type": "code",
   "execution_count": null,
   "metadata": {},
   "outputs": [],
   "source": [
    "from pathlib import Path\n",
    "\n",
    "working = [\"186\"]\n",
    "\n",
    "episodes = [\n",
    "    \"030\",\n",
    "    \"051\",\n",
    "    \"061\",\n",
    "    \"069\",\n",
    "    \"098\",\n",
    "    \"118\",\n",
    "    \"186\",\n",
    "    \"240\",\n",
    "    \"298\",\n",
    "    \"398\",\n",
    "    \"405\",\n",
    "    \"430\",\n",
    "]\n",
    "\n",
    "files_dir = Path(\"../files/bulk/rotl/\")\n",
    "\n",
    "files = [\n",
    "    file\n",
    "    for file in sorted(files_dir.iterdir())\n",
    "    if any(episode in str(file) for episode in episodes)\n",
    "    if \".txt\" in str(file)\n",
    "]\n",
    "\n",
    "out_dir = Path(\"../files/queries\")\n",
    "out_dir.mkdir(exist_ok=True)\n",
    "\n",
    "for file in files:\n",
    "    out_path = out_dir / file.name\n",
    "    text_transcript = \"\\n\".join(open(file, \"r\").read().split(\"\\n\\n\"))\n",
    "    query = \"What is Merin's daughter's name?\"\n",
    "    context = f\"{text_transcript}\\n\\n{query}\"\n",
    "    with open(out_path, \"w\") as f:\n",
    "        f.write(context)"
   ]
  }
 ],
 "metadata": {
  "kernelspec": {
   "display_name": ".venv",
   "language": "python",
   "name": "python3"
  },
  "language_info": {
   "name": "python",
   "version": "3.12.8"
  }
 },
 "nbformat": 4,
 "nbformat_minor": 2
}
