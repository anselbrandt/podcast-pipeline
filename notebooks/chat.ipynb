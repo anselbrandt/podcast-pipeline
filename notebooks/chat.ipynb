{
 "cells": [
  {
   "cell_type": "code",
   "execution_count": null,
   "metadata": {},
   "outputs": [],
   "source": [
    "from pathlib import Path\n",
    "\n",
    "working = [\"186\"]\n",
    "\n",
    "episodes = [\n",
    "    \"030\",\n",
    "    \"051\",\n",
    "    \"061\",\n",
    "    \"069\",\n",
    "    \"098\",\n",
    "    \"118\",\n",
    "    \"186\",\n",
    "    \"240\",\n",
    "    \"298\",\n",
    "    \"398\",\n",
    "    \"405\",\n",
    "    \"430\",\n",
    "]\n",
    "\n",
    "files_dir = Path(\"../files/text/rotl\")\n",
    "\n",
    "files = [\n",
    "    file\n",
    "    for file in sorted(files_dir.iterdir())\n",
    "    if any(episode in str(file) for episode in working)\n",
    "]\n",
    "\n",
    "out_dir = Path(\"../files/chat\")\n",
    "out_dir.mkdir(exist_ok=True)\n",
    "\n",
    "for file in files:\n",
    "    text = open(file, \"r\").read()"
   ]
  },
  {
   "cell_type": "code",
   "execution_count": 2,
   "metadata": {},
   "outputs": [
    {
     "name": "stdout",
     "output_type": "stream",
     "text": [
      "The sky appears blue to us during the day due to a phenomenon called Rayleigh scattering. When sunlight, which is composed of various colors of the visible spectrum, enters Earth's atmosphere, it interacts with gas molecules and tiny particles in the air. \n",
      "\n",
      "Blue light has a shorter wavelength compared to other colors like red or orange. This means that when sunlight encounters these small atmospheric particles (such as nitrogen and oxygen molecules), blue light is scattered more strongly than longer-wavelength colors. As a result, the blue light gets diffused in all directions by these molecules, making it reach our eyes from various angles. \n",
      "\n",
      "The other colors with longer wavelengths pass through the atmosphere relatively unscattered, reaching us directly from the sun and appearing less dominant in comparison to the scattered blue light. This is why we perceive the sky as being blue during the daytime when the sun is out."
     ]
    }
   ],
   "source": [
    "from ollama import chat\n",
    "\n",
    "stream = chat(\n",
    "    model=\"command-r\",\n",
    "    messages=[{\"role\": \"user\", \"content\": \"Why is the sky blue?\"}],\n",
    "    stream=True,\n",
    ")\n",
    "\n",
    "for chunk in stream:\n",
    "    print(chunk[\"message\"][\"content\"], end=\"\", flush=True)"
   ]
  }
 ],
 "metadata": {
  "kernelspec": {
   "display_name": ".venv",
   "language": "python",
   "name": "python3"
  },
  "language_info": {
   "codemirror_mode": {
    "name": "ipython",
    "version": 3
   },
   "file_extension": ".py",
   "mimetype": "text/x-python",
   "name": "python",
   "nbconvert_exporter": "python",
   "pygments_lexer": "ipython3",
   "version": "3.12.8"
  }
 },
 "nbformat": 4,
 "nbformat_minor": 2
}
