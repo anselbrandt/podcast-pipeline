{
 "cells": [
  {
   "cell_type": "code",
   "execution_count": 2,
   "metadata": {},
   "outputs": [],
   "source": [
    "from pathlib import Path\n",
    "import re\n",
    "import sys\n",
    "\n",
    "from openai import OpenAI\n",
    "\n",
    "parent_dir = str(Path().resolve().parents[0])\n",
    "sys.path.insert(0, parent_dir)\n",
    "\n",
    "from utils import get_meta, chunker, num_tokens\n",
    "from app.utils import srt_to_lines, srt_to_text\n",
    "\n",
    "\n",
    "def tokenize_text(text):\n",
    "    \"\"\"Tokenizes the input text into a list of tokens.\"\"\"\n",
    "    return re.findall(r\"\\w+(?:[-_]\\w+)*|\\S\", text)\n",
    "\n",
    "\n",
    "BASE_URL = \"https://mlkyway.anselbrandt.net/vllm/v1\"\n",
    "model = \"Qwen/Qwen2.5-3B-Instruct\"\n",
    "\n",
    "openai_api_key = \"EMPTY\"\n",
    "openai_api_base = BASE_URL\n",
    "\n",
    "client = OpenAI(\n",
    "    api_key=openai_api_key,\n",
    "    base_url=openai_api_base,\n",
    ")\n",
    "\n",
    "\n",
    "def ask_llm(context, model=model):\n",
    "    data = {\n",
    "        \"model\": model,\n",
    "        \"max_tokens\": 1000,\n",
    "        \"temperature\": 0,\n",
    "        \"messages\": [\n",
    "            {\"role\": \"user\", \"content\": context},\n",
    "        ],\n",
    "    }\n",
    "    response = client.chat.completions.create(**data)\n",
    "    chat_response = response.choices[0].message.content\n",
    "    return chat_response"
   ]
  },
  {
   "cell_type": "code",
   "execution_count": 5,
   "metadata": {},
   "outputs": [
    {
     "data": {
      "application/vnd.jupyter.widget-view+json": {
       "model_id": "5cd25cea00c94fcfbdba859323a7a286",
       "version_major": 2,
       "version_minor": 0
      },
      "text/plain": [
       "Fetching 4 files:   0%|          | 0/4 [00:00<?, ?it/s]"
      ]
     },
     "metadata": {},
     "output_type": "display_data"
    }
   ],
   "source": [
    "from gliner import GLiNER\n",
    "\n",
    "gliner_model = GLiNER.from_pretrained(\"urchade/gliner_base\")"
   ]
  },
  {
   "cell_type": "code",
   "execution_count": 6,
   "metadata": {},
   "outputs": [],
   "source": [
    "dir = Path(\"../files/bulk/rotl\")\n",
    "files = [file for file in dir.iterdir() if \".srt\" in file.name]\n",
    "\n",
    "out_dir = Path() / \"ariella\"\n",
    "out_dir.mkdir(exist_ok=True)\n",
    "\n",
    "ariella = []\n",
    "\n",
    "for file in files:\n",
    "    text = srt_to_text(file)\n",
    "    if \"Ariella\" in text:\n",
    "        out_path = out_dir / file.name\n",
    "        with open(out_path, \"w\") as f:\n",
    "            f.write(text)"
   ]
  },
  {
   "cell_type": "code",
   "execution_count": 7,
   "metadata": {},
   "outputs": [],
   "source": [
    "dir = Path(\"ariella\")\n",
    "files = [file for file in dir.iterdir()]\n",
    "\n",
    "out_dir = Path() / \"names\"\n",
    "out_dir.mkdir(exist_ok=True)\n",
    "\n",
    "for file in files:\n",
    "    file_name, episode_number, episode_date, episode_title = get_meta(file)\n",
    "    text = open(file, \"r\").read().splitlines()\n",
    "    names = set()\n",
    "    for line in text:\n",
    "        speaker, text = line.split(\": \")\n",
    "        entities = gliner_model.predict_entities(text, [\"Person\"], threshold=0.5)\n",
    "        for entity in entities:\n",
    "            names.add(entity[\"text\"])\n",
    "    out_path = out_dir / file.name\n",
    "    with open(out_path, \"w\") as f:\n",
    "        f.write(\"\\n\".join(sorted(list(names))))"
   ]
  }
 ],
 "metadata": {
  "kernelspec": {
   "display_name": ".venv",
   "language": "python",
   "name": "python3"
  },
  "language_info": {
   "codemirror_mode": {
    "name": "ipython",
    "version": 3
   },
   "file_extension": ".py",
   "mimetype": "text/x-python",
   "name": "python",
   "nbconvert_exporter": "python",
   "pygments_lexer": "ipython3",
   "version": "3.12.8"
  }
 },
 "nbformat": 4,
 "nbformat_minor": 2
}
