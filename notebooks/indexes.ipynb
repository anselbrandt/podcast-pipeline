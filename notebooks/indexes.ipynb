{
 "cells": [
  {
   "cell_type": "code",
   "execution_count": 39,
   "metadata": {},
   "outputs": [],
   "source": [
    "from pathlib import Path\n",
    "from typing import List, NamedTuple\n",
    "from pydantic import BaseModel\n",
    "\n",
    "\n",
    "class ShowMetadata(NamedTuple):\n",
    "    showname: str\n",
    "    dates_filepath: Path\n",
    "    titles_filepath: Path\n",
    "\n",
    "\n",
    "class ShowMetadataList(BaseModel):\n",
    "    shows: List[ShowMetadata]\n",
    "\n",
    "\n",
    "def meta_dict(file_path):\n",
    "    file = open(file_path, \"r\").read().splitlines()\n",
    "    return {\n",
    "        key: value\n",
    "        for key, value in [\n",
    "            (line.split(\" - \")[0], line.split(\" - \")[1]) for line in file\n",
    "        ]\n",
    "    }\n",
    "\n",
    "\n",
    "def metadata_to_dict(metadata: ShowMetadataList):\n",
    "    metadata_dict = {}\n",
    "    for show in metadata.shows:\n",
    "        showname, dates_filepath, titles_filepath = show\n",
    "        metadata_dict[showname] = {\n",
    "            \"dates\": meta_dict(dates_filepath),\n",
    "            \"titles\": meta_dict(titles_filepath),\n",
    "        }\n",
    "    return metadata_dict"
   ]
  },
  {
   "cell_type": "code",
   "execution_count": null,
   "metadata": {},
   "outputs": [],
   "source": [
    "data = ShowMetadataList(\n",
    "    shows=[\n",
    "        ShowMetadata(\n",
    "            \"rotl\",\n",
    "            Path(\"../files/meta/rotl_dates.txt\"),\n",
    "            Path(\"../files/meta/rotl_titles.txt\"),\n",
    "        ),\n",
    "        ShowMetadata(\n",
    "            \"roadwork\",\n",
    "            Path(\"../files/meta/roadwork_dates.txt\"),\n",
    "            Path(\"../files/meta/roadwork_titles.txt\"),\n",
    "        ),\n",
    "    ]\n",
    ")\n",
    "\n",
    "metadata = metadata_to_dict(data)"
   ]
  },
  {
   "cell_type": "code",
   "execution_count": null,
   "metadata": {},
   "outputs": [],
   "source": [
    "from pathlib import Path\n",
    "\n",
    "root_dir = Path(\"../files/summaries\")\n",
    "\n",
    "files = [file for file in root_dir.rglob(\"*\") if file.is_file()]\n",
    "for file in files:\n",
    "    out_dir = Path(\"../files/indexes\")\n",
    "    showname = str(Path(file.relative_to(root_dir)).parent)\n",
    "    episode = file.stem.split(\"_-_\")[0]\n",
    "    title = metadata[showname][\"titles\"][episode]\n",
    "    date = metadata[showname][\"dates\"][episode]"
   ]
  }
 ],
 "metadata": {
  "kernelspec": {
   "display_name": ".venv",
   "language": "python",
   "name": "python3"
  },
  "language_info": {
   "codemirror_mode": {
    "name": "ipython",
    "version": 3
   },
   "file_extension": ".py",
   "mimetype": "text/x-python",
   "name": "python",
   "nbconvert_exporter": "python",
   "pygments_lexer": "ipython3",
   "version": "3.12.8"
  }
 },
 "nbformat": 4,
 "nbformat_minor": 2
}
