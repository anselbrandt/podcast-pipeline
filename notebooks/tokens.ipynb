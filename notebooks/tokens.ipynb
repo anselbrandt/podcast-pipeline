{
 "cells": [
  {
   "cell_type": "code",
   "execution_count": 1,
   "metadata": {},
   "outputs": [],
   "source": [
    "from pathlib import Path\n",
    "\n",
    "import tiktoken\n",
    "\n",
    "# tokens\n",
    "# rotl 11,056,798 / 569 = 19,432\n",
    "# roadwork 4,119,771 / 256 = 16,093\n",
    "# total 15,176,569\n",
    "\n",
    "encoding = tiktoken.get_encoding(\"cl100k_base\")\n",
    "\n",
    "\n",
    "def num_tokens(string: str) -> int:\n",
    "    num_tokens = len(encoding.encode(string))\n",
    "    return num_tokens\n",
    "\n",
    "\n",
    "episodes = [\n",
    "    \"030\",\n",
    "    \"051\",\n",
    "    \"061\",\n",
    "    \"069\",\n",
    "    \"098\",\n",
    "    \"118\",\n",
    "    \"186\",\n",
    "    \"240\",\n",
    "    \"298\",\n",
    "    \"398\",\n",
    "    \"405\",\n",
    "    \"430\",\n",
    "]\n",
    "\n",
    "files_dir = Path(\"../files/text/rotl/\")\n",
    "files = [\n",
    "    file\n",
    "    for file in sorted(files_dir.iterdir())\n",
    "    if any(episode in str(file) for episode in episodes)\n",
    "]\n",
    "\n",
    "out_dir = Path(\"../files/selected/\")\n",
    "out_dir.mkdir(parents=True, exist_ok=True)\n",
    "\n",
    "for file in files:\n",
    "    text = open(file, \"r\").read()\n",
    "    file_name = file.name\n",
    "    out_path = out_dir / file_name\n",
    "    with open(out_path, \"w\") as f:\n",
    "        f.write(text)"
   ]
  }
 ],
 "metadata": {
  "kernelspec": {
   "display_name": ".venv",
   "language": "python",
   "name": "python3"
  },
  "language_info": {
   "codemirror_mode": {
    "name": "ipython",
    "version": 3
   },
   "file_extension": ".py",
   "mimetype": "text/x-python",
   "name": "python",
   "nbconvert_exporter": "python",
   "pygments_lexer": "ipython3",
   "version": "3.12.8"
  }
 },
 "nbformat": 4,
 "nbformat_minor": 2
}
