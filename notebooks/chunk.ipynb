{
 "cells": [
  {
   "cell_type": "code",
   "execution_count": 9,
   "metadata": {},
   "outputs": [],
   "source": [
    "import sys\n",
    "\n",
    "sys.path.append(\"/Users/ansel/ai/podcast-pipeline\")\n",
    "from pathlib import Path\n",
    "\n",
    "from chonkie import LateChunker\n",
    "\n",
    "from app.utils import merge_srt\n",
    "\n",
    "chunker = LateChunker(\n",
    "    embedding_model=\"all-MiniLM-L6-v2\",\n",
    "    mode=\"sentence\",\n",
    "    chunk_size=512,\n",
    "    min_sentences_per_chunk=1,\n",
    "    min_characters_per_sentence=12,\n",
    "    delim=\"\\n\",\n",
    ")\n",
    "\n",
    "\n",
    "def chunks_to_text(chunks):\n",
    "    chunk_text = [chunk.text for chunk in chunks]\n",
    "    return \"\\n\".join(chunk_text)\n",
    "\n",
    "\n",
    "def srt_to_text(file_path):\n",
    "    transcript = merge_srt(file_path)\n",
    "    content_with_speaker = [\n",
    "        f\"{speaker}: {speech} \" for idx, start, end, speaker, speech in transcript\n",
    "    ]\n",
    "    return \"\\n\".join(content_with_speaker)"
   ]
  },
  {
   "cell_type": "code",
   "execution_count": 10,
   "metadata": {},
   "outputs": [
    {
     "data": {
      "text/plain": [
       "[PosixPath('../files/bulk/rotl/030_-_cement_gravy_boat_of_suffering.srt'),\n",
       " PosixPath('../files/bulk/rotl/030_-_cement_gravy_boat_of_suffering.txt'),\n",
       " PosixPath('../files/bulk/rotl/051_-_in_pursuit_of_an_errant_leaf.srt'),\n",
       " PosixPath('../files/bulk/rotl/051_-_in_pursuit_of_an_errant_leaf.txt'),\n",
       " PosixPath('../files/bulk/rotl/061_-_neighborhood_stick_fight.srt'),\n",
       " PosixPath('../files/bulk/rotl/061_-_neighborhood_stick_fight.txt'),\n",
       " PosixPath('../files/bulk/rotl/069_-_campfire_spaghetti_party.srt'),\n",
       " PosixPath('../files/bulk/rotl/069_-_campfire_spaghetti_party.txt'),\n",
       " PosixPath('../files/bulk/rotl/098_-_a_mastiff_of_spinach.srt'),\n",
       " PosixPath('../files/bulk/rotl/098_-_a_mastiff_of_spinach.txt'),\n",
       " PosixPath('../files/bulk/rotl/118_-_the_articulated_hose_king.srt'),\n",
       " PosixPath('../files/bulk/rotl/118_-_the_articulated_hose_king.txt'),\n",
       " PosixPath('../files/bulk/rotl/186_-_electric_papers.srt'),\n",
       " PosixPath('../files/bulk/rotl/186_-_electric_papers.txt'),\n",
       " PosixPath('../files/bulk/rotl/240_-_wrobbie_wrist.srt'),\n",
       " PosixPath('../files/bulk/rotl/240_-_wrobbie_wrist.txt'),\n",
       " PosixPath('../files/bulk/rotl/298_-_private_road.srt'),\n",
       " PosixPath('../files/bulk/rotl/298_-_private_road.txt'),\n",
       " PosixPath('../files/bulk/rotl/398_-_tyrell_s_robe.srt'),\n",
       " PosixPath('../files/bulk/rotl/398_-_tyrell_s_robe.txt'),\n",
       " PosixPath('../files/bulk/rotl/405_-_load-bearing_bangs.srt'),\n",
       " PosixPath('../files/bulk/rotl/405_-_load-bearing_bangs.txt'),\n",
       " PosixPath('../files/bulk/rotl/430_-_pilf_pants.srt'),\n",
       " PosixPath('../files/bulk/rotl/430_-_pilf_pants.txt')]"
      ]
     },
     "execution_count": 10,
     "metadata": {},
     "output_type": "execute_result"
    }
   ],
   "source": [
    "episodes = [\n",
    "    \"030\",\n",
    "    \"051\",\n",
    "    \"061\",\n",
    "    \"069\",\n",
    "    \"098\",\n",
    "    \"118\",\n",
    "    \"186\",\n",
    "    \"240\",\n",
    "    \"298\",\n",
    "    \"398\",\n",
    "    \"405\",\n",
    "    \"430\",\n",
    "]\n",
    "\n",
    "files_dir = Path(\"../files/bulk/rotl/\")\n",
    "\n",
    "files = [\n",
    "    file\n",
    "    for file in sorted(files_dir.iterdir())\n",
    "    if any(episode in str(file) for episode in episodes)\n",
    "]\n",
    "\n",
    "files"
   ]
  }
 ],
 "metadata": {
  "kernelspec": {
   "display_name": ".venv",
   "language": "python",
   "name": "python3"
  },
  "language_info": {
   "codemirror_mode": {
    "name": "ipython",
    "version": 3
   },
   "file_extension": ".py",
   "mimetype": "text/x-python",
   "name": "python",
   "nbconvert_exporter": "python",
   "pygments_lexer": "ipython3",
   "version": "3.12.8"
  }
 },
 "nbformat": 4,
 "nbformat_minor": 2
}
