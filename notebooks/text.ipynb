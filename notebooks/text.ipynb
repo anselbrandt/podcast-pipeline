{
 "cells": [
  {
   "cell_type": "code",
   "execution_count": null,
   "metadata": {},
   "outputs": [],
   "source": [
    "import sys\n",
    "from pathlib import Path\n",
    "\n",
    "from gliner import GLiNER\n",
    "\n",
    "parent_dir = str(Path().resolve().parents[0])\n",
    "sys.path.insert(0, parent_dir)\n",
    "\n",
    "from app.utils import srt_to_transcript\n",
    "\n",
    "model = GLiNER.from_pretrained(\"urchade/gliner_medium-v2.1\")"
   ]
  },
  {
   "cell_type": "code",
   "execution_count": 41,
   "metadata": {},
   "outputs": [],
   "source": [
    "import shutil\n",
    "\n",
    "ariella = [\n",
    "    \"152\",\n",
    "    \"321\",\n",
    "    \"509\",\n",
    "    \"551\",\n",
    "    \"562\",\n",
    "    \"525\",\n",
    "    \"291\",\n",
    "    \"554\",\n",
    "    \"421\",\n",
    "    \"556\",\n",
    "    \"511\",\n",
    "    \"256\",\n",
    "    \"373\",\n",
    "]\n",
    "\n",
    "files_dir = Path(\"../files/ariella_txt/\")\n",
    "\n",
    "files = [\n",
    "    file\n",
    "    for file in sorted(files_dir.iterdir())\n",
    "    # if any(episode in file.stem for episode in ariella)\n",
    "]"
   ]
  },
  {
   "cell_type": "code",
   "execution_count": null,
   "metadata": {},
   "outputs": [],
   "source": [
    "for file in files[:1]:\n",
    "    names = set()\n",
    "    transcript = open(file, \"r\").read().split(\"\\n\\n\")\n",
    "    for line in transcript:\n",
    "        speaker, text = line.split(\": \")\n",
    "        entities = model.predict_entities(text, [\"Person\"], threshold=0.5)\n",
    "        for entity in entities:\n",
    "            names.add(entity[\"text\"])\n",
    "    print(names)"
   ]
  },
  {
   "cell_type": "code",
   "execution_count": null,
   "metadata": {},
   "outputs": [],
   "source": [
    "for file in files[:1]:\n",
    "    transcript = srt_to_transcript(file)\n",
    "    labels = [\"Person\"]\n",
    "    names = set()\n",
    "    for line in transcript:\n",
    "        idx, start, end, speaker, speech = line\n",
    "        entities = model.predict_entities(speech, labels, threshold=0.5)\n",
    "        for entity in entities:\n",
    "            names.add(entity[\"text\"])\n",
    "    for name in names:\n",
    "        print(name)"
   ]
  }
 ],
 "metadata": {
  "kernelspec": {
   "display_name": ".venv",
   "language": "python",
   "name": "python3"
  },
  "language_info": {
   "codemirror_mode": {
    "name": "ipython",
    "version": 3
   },
   "file_extension": ".py",
   "mimetype": "text/x-python",
   "name": "python",
   "nbconvert_exporter": "python",
   "pygments_lexer": "ipython3",
   "version": "3.12.8"
  }
 },
 "nbformat": 4,
 "nbformat_minor": 2
}
